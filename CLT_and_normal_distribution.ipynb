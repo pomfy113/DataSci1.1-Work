{
 "cells": [
  {
   "cell_type": "markdown",
   "metadata": {},
   "source": [
    "\n",
    "\n",
    "<center><h1>Normal Distribution & Central Limit Theorem</h1></center>\n",
    "\n",
    "\n",
    "\n",
    "Its understandable that the Central Limit Theorem (CLT) can seem a bit confusing.  The goal of this notebook is to demystify the CLT by having you write an algorithm that actually uses sampling to approximate a normal distribution from a non-normally distributed data set. \n",
    "\n",
    "In this notebook you will:\n",
    "\n",
    "1. Run code to generate a non-normal data set.  \n",
    "1. Create an function to randomly sample subsets of data.\n",
    "1. Create a data set of the means of each sample.\n",
    "1. Visualize the distribution of the means of each sample.  \n",
    "\n",
    "\n",
    "<center><h3>Creating our Dummy Data</h3></center>\n",
    "\n",
    "We're going to use numpy to create a non-normal distribution.  The easiest way to do this is just to create a uniform distribution!  \n",
    "\n",
    "**TASKS:** Run the code below to import numpy and set a random seed, and then use numpy to create a uniform distribution with integer values between 0 and 100.\n",
    "\n",
    "(Hint: For integer values, random.uniform is not our best choice since it generates floats.  Which numpy method should you use to generate a uniform distribution of random integers?)"
   ]
  },
  {
   "cell_type": "code",
   "execution_count": 23,
   "metadata": {},
   "outputs": [],
   "source": [
    "# Run this cell to import the packages you'll need and set a seed\n",
    "import numpy as np\n",
    "import pandas as pd\n",
    "import matplotlib.pyplot as plt\n",
    "%matplotlib inline\n",
    "\n",
    "# Please dont change this--otherwise, you'll get different results from everyone else!\n",
    "np.random.seed(1547)"
   ]
  },
  {
   "cell_type": "code",
   "execution_count": 24,
   "metadata": {
    "scrolled": true
   },
   "outputs": [
    {
     "data": {
      "text/plain": [
       "(array([1019.,  915., 1000., 1024.,  973.,  979., 1057., 1014., 1039.,\n",
       "         980.]),\n",
       " array([ 0. ,  9.9, 19.8, 29.7, 39.6, 49.5, 59.4, 69.3, 79.2, 89.1, 99. ]),\n",
       " <a list of 10 Patch objects>)"
      ]
     },
     "execution_count": 24,
     "metadata": {},
     "output_type": "execute_result"
    },
    {
     "data": {
      "image/png": "[encoded data removed]",
      "text/plain": [
       "<Figure size 432x288 with 1 Axes>"
      ]
     },
     "metadata": {},
     "output_type": "display_data"
    }
   ],
   "source": [
    "# Create a uniform distribution of 10000 integers between 0 and 100.\n",
    "non_normal_data = np.random.randint(low=0, high=100, size=10000)\n",
    "\n",
    "# Use plt.hist() to visualize our the distribution of our dummy data set\n",
    "plt.hist(non_normal_data)"
   ]
  },
  {
   "cell_type": "markdown",
   "metadata": {},
   "source": [
    "<center><h3>Creating a Sampling Function</h3></center>\n",
    "\n",
    "Now that we have created our data set, we'll need to sample from it.  In order to do this, you'll need to create two different functions--a `get_sample` to create random samples of size 'n', and a `create_sample_distribution` function to actually create a sample distribution of size `n` (using our helper function). \n",
    "\n",
    "Your `get_sample` function should:\n",
    "\n",
    "1.  Take a keyword argument for sample size (called 'n' for short)\n",
    "1.  Randomly grab 'n' samples from the uniform distribution with replacement (any samples selected should NOT be removed from the original data set).\n",
    "1.  Calculate the mean of the sub-sample and return it.\n",
    "\n",
    "\n",
    "Your `create_sample_distribution` function should:\n",
    "\n",
    "1.  Take a keyword argument for size, which will determine the total size of the sample distribution.\n",
    "1.  Use the `get_sample` helper function to create sample distributions and calculate sample mean.   \n",
    "1.  Store the sample mean.\n",
    "1.  Repeat this process until there a distribution of `[size]` sample means exist.  When the data set is complete, return it as a numpy array.  \n",
    "\n",
    "``` python\n",
    "def get_sample(dataset, n=30):\n",
    "    \"\"\"Grabs a random subsample of size 'n' from dataset.\n",
    "    Outputs the mean of the subsample.\"\"\"\n",
    "    pass\n",
    "\n",
    "def create_sample_distribution(dataset, size=100):\n",
    "    \"\"\"Creates a dataset of subsample means.  The length of the dataset is specified by the 'size' \n",
    "    keyword argument. Should return the entire sample distribution as a numpy array.  \"\"\"\n",
    "    pass\n",
    "```\n",
    "\n"
   ]
  },
  {
   "cell_type": "code",
   "execution_count": 25,
   "metadata": {},
   "outputs": [
    {
     "data": {
      "text/plain": [
       "array([56.53333333, 46.36666667, 52.16666667, 60.3       , 49.06666667,\n",
       "       51.53333333, 49.06666667, 49.43333333, 49.43333333, 45.23333333,\n",
       "       54.        , 47.5       , 41.6       , 54.96666667, 48.36666667,\n",
       "       46.43333333, 42.6       , 44.9       , 42.6       , 49.76666667,\n",
       "       45.7       , 48.83333333, 41.93333333, 51.73333333, 49.6       ,\n",
       "       50.83333333, 49.73333333, 51.33333333, 53.56666667, 45.6       ,\n",
       "       46.46666667, 41.66666667, 51.5       , 47.86666667, 42.96666667,\n",
       "       55.06666667, 42.46666667, 45.13333333, 51.76666667, 50.6       ,\n",
       "       49.46666667, 47.6       , 48.16666667, 37.83333333, 47.23333333,\n",
       "       50.96666667, 54.6       , 46.        , 41.8       , 44.3       ,\n",
       "       44.9       , 43.66666667, 55.4       , 47.23333333, 53.6       ,\n",
       "       53.36666667, 45.63333333, 41.96666667, 46.56666667, 42.83333333,\n",
       "       44.5       , 55.23333333, 44.8       , 54.73333333, 61.36666667,\n",
       "       60.63333333, 50.16666667, 46.1       , 51.83333333, 49.03333333,\n",
       "       39.86666667, 58.9       , 52.96666667, 50.9       , 49.06666667,\n",
       "       52.3       , 52.26666667, 44.46666667, 49.23333333, 45.6       ,\n",
       "       41.7       , 53.13333333, 50.3       , 62.43333333, 53.53333333,\n",
       "       47.6       , 45.        , 50.23333333, 50.6       , 48.83333333,\n",
       "       47.2       , 52.13333333, 52.5       , 43.76666667, 64.56666667,\n",
       "       38.2       , 47.1       , 46.9       , 40.36666667, 52.8       ])"
      ]
     },
     "metadata": {},
     "output_type": "display_data"
    }
   ],
   "source": [
    "# Complete the two functions below.  \n",
    "def get_sample(dataset, n=30):\n",
    "    \"\"\"Grabs a random subsample of size 'n' from dataset.\n",
    "    Outputs the mean of the subsample.\"\"\"\n",
    "    sample = np.random.choice(dataset, n)\n",
    "    return sample.sum() / n\n",
    "\n",
    "def create_sample_distribution(dataset, size=100):\n",
    "    \"\"\"Creates a dataset of subsample means.  The length of the dataset is specified by the 'size' \n",
    "    keyword argument. Should return the entire sample distribution as a numpy array.  \"\"\"\n",
    "    sample_means = []\n",
    "    for i in range(size):\n",
    "        sample = get_sample(dataset)\n",
    "        sample_means.append(sample)\n",
    "    return np.array(sample_means)\n",
    "\n",
    "data = create_sample_distribution(non_normal_data)\n",
    "\n",
    "display(data)"
   ]
  },
  {
   "cell_type": "markdown",
   "metadata": {},
   "source": [
    "<center><h3>Visualizing our Sample Distribution</h3></center>\n",
    "\n",
    "Now that we have created our sample distribution, let's visualize it to determine if it's a normal distribution.  \n",
    "\n",
    "**TASK:** Use matplotlib to visualize our sample distribution."
   ]
  },
  {
   "cell_type": "code",
   "execution_count": 26,
   "metadata": {
    "scrolled": true
   },
   "outputs": [
    {
     "data": {
      "text/plain": [
       "(array([ 4., 11., 15., 17., 21., 18.,  8.,  1.,  3.,  2.]),\n",
       " array([37.83333333, 40.50666667, 43.18      , 45.85333333, 48.52666667,\n",
       "        51.2       , 53.87333333, 56.54666667, 59.22      , 61.89333333,\n",
       "        64.56666667]),\n",
       " <a list of 10 Patch objects>)"
      ]
     },
     "execution_count": 26,
     "metadata": {},
     "output_type": "execute_result"
    },
    {
     "data": {
      "image/png": "[encoded data removed]",
      "text/plain": [
       "<Figure size 432x288 with 1 Axes>"
      ]
     },
     "metadata": {},
     "output_type": "display_data"
    }
   ],
   "source": [
    "# Visualize our sample distribution below.\n",
    "# Remember, we aliased matplotlib.pyplot as plt!\n",
    "plt.hist(data)"
   ]
  },
  {
   "cell_type": "markdown",
   "metadata": {},
   "source": [
    "<center><h3>Great Job!</h3></center>\n",
    "\n",
    "Now that you've used the Central Limit Theorem, you're able to create to treat non-normally distributed datasets as normally distributed.  You can now compute Z-scores and compute probabilities for values in these datasets!  "
   ]
  },
  {
   "cell_type": "code",
   "execution_count": 28,
   "metadata": {},
   "outputs": [],
   "source": [
    "from scipy import stats as st"
   ]
  },
  {
   "cell_type": "code",
   "execution_count": 29,
   "metadata": {},
   "outputs": [
    {
     "data": {
      "text/plain": [
       "array([ 1.45878613, -0.48983985,  0.6218353 ,  2.18073608,  0.0276641 ,\n",
       "        0.50044548,  0.0276641 ,  0.09794241,  0.09794241, -0.70706373,\n",
       "        0.97322687, -0.27261597, -1.40345793,  1.15850606, -0.10650359,\n",
       "       -0.47706197, -1.2117898 , -0.7709531 , -1.2117898 ,  0.16183179,\n",
       "       -0.6176186 , -0.01705846, -1.33956855,  0.53877911,  0.1298871 ,\n",
       "        0.36627779,  0.15544285,  0.46211186,  0.89017068, -0.63678541,\n",
       "       -0.47067303, -1.39068005,  0.49405655, -0.20233765, -1.14151148,\n",
       "        1.17767287, -1.23734555, -0.72623054,  0.54516805,  0.32155523,\n",
       "        0.10433135, -0.25344916, -0.14483722, -2.12540788, -0.32372747,\n",
       "        0.39183354,  1.08822774, -0.56011816, -1.3651243 , -0.88595398,\n",
       "       -0.7709531 , -1.00734379,  1.24156225, -0.32372747,  0.89655962,\n",
       "        0.85183705, -0.63039647, -1.33317961, -0.45150622, -1.16706723,\n",
       "       -0.84762035,  1.20961756, -0.79011992,  1.1137835 ,  2.38518208,\n",
       "        2.24462545,  0.23849904, -0.54095135,  0.55794592,  0.02127516,\n",
       "       -1.73568268,  1.9124007 ,  0.7751698 ,  0.37905567,  0.0276641 ,\n",
       "        0.64739105,  0.64100211, -0.85400929,  0.05960879, -0.63678541,\n",
       "       -1.38429111,  0.80711449,  0.26405479,  2.58962809,  0.88378174,\n",
       "       -0.25344916, -0.75178629,  0.25127692,  0.32155523, -0.01705846,\n",
       "       -0.33011641,  0.61544636,  0.68572467, -0.98817698,  2.99852009,\n",
       "       -2.05512956, -0.34928322, -0.38761685, -1.63984862,  0.74322511])"
      ]
     },
     "execution_count": 29,
     "metadata": {},
     "output_type": "execute_result"
    }
   ],
   "source": [
    "st.zscore(data)"
   ]
  },
  {
   "cell_type": "code",
   "execution_count": null,
   "metadata": {},
   "outputs": [],
   "source": []
  }
 ],
 "metadata": {
  "kernelspec": {
   "display_name": "Python 3",
   "language": "python",
   "name": "python3"
  },
  "language_info": {
   "codemirror_mode": {
    "name": "ipython",
    "version": 3
   },
   "file_extension": ".py",
   "mimetype": "text/x-python",
   "name": "python",
   "nbconvert_exporter": "python",
   "pygments_lexer": "ipython3",
   "version": "3.6.5"
  }
 },
 "nbformat": 4,
 "nbformat_minor": 2
}
