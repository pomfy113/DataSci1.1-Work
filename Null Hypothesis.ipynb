{
 "cells": [
  {
   "cell_type": "code",
   "execution_count": 20,
   "metadata": {},
   "outputs": [],
   "source": [
    "import pandas as pd\n",
    "import numpy as np\n",
    "import matplotlib.pyplot as plt\n",
    "import seaborn as sb\n",
    "import scipy as sp\n"
   ]
  },
  {
   "cell_type": "code",
   "execution_count": 2,
   "metadata": {},
   "outputs": [
    {
     "data": {
      "text/plain": [
       "(array([  36.,  228.,  830., 1941., 2709., 2498., 1226.,  441.,   80.,\n",
       "          11.]), array([-67.67680133, -32.22045041,   3.2359005 ,  38.69225141,\n",
       "         74.14860233, 109.60495324, 145.06130416, 180.51765507,\n",
       "        215.97400598, 251.4303569 , 286.88670781]), <a list of 10 Patch objects>)"
      ]
     },
     "execution_count": 2,
     "metadata": {},
     "output_type": "execute_result"
    },
    {
     "data": {
      "image/png": "[encoded data removed]",
      "text/plain": [
       "<Figure size 432x288 with 1 Axes>"
      ]
     },
     "metadata": {},
     "output_type": "display_data"
    }
   ],
   "source": [
    "from scipy.stats import norm\n",
    "mean = 100\n",
    "std = 50\n",
    "norm_array = norm.rvs(loc=100, scale=50, size=10000)\n",
    "plt.hist(norm_array)"
   ]
  },
  {
   "cell_type": "code",
   "execution_count": 3,
   "metadata": {},
   "outputs": [
    {
     "data": {
      "text/plain": [
       "(array([  36.,  228.,  830., 1941., 2709., 2498., 1226.,  441.,   80.,\n",
       "          11.]),\n",
       " array([-3.35353603, -2.64440901, -1.93528199, -1.22615497, -0.51702795,\n",
       "         0.19209906,  0.90122608,  1.6103531 ,  2.31948012,  3.02860714,\n",
       "         3.73773416]),\n",
       " <a list of 10 Patch objects>)"
      ]
     },
     "execution_count": 3,
     "metadata": {},
     "output_type": "execute_result"
    },
    {
     "data": {
      "image/png": "[encoded data removed]",
      "text/plain": [
       "<Figure size 432x288 with 1 Axes>"
      ]
     },
     "metadata": {},
     "output_type": "display_data"
    }
   ],
   "source": [
    "z_array = []\n",
    "for i in range(len(norm_array)):\n",
    "    z_array.append((norm_array[i] - mean) / std)\n",
    "\n",
    "plt.hist(z_array)"
   ]
  },
  {
   "cell_type": "markdown",
   "metadata": {},
   "source": [
    "## Rats - P Values\n",
    "Let's do some info on rats\n",
    "- Pop Mean = 1.2\n",
    "- Sample Mean = 1.05\n",
    "- N = 100\n",
    "- SD = 0.5\n"
   ]
  },
  {
   "cell_type": "code",
   "execution_count": 4,
   "metadata": {},
   "outputs": [],
   "source": [
    "# Z-score\n",
    "p_mean = 1.2\n",
    "s_mean = 1.05\n",
    "n = 100\n",
    "std = 0.5"
   ]
  },
  {
   "cell_type": "code",
   "execution_count": 5,
   "metadata": {},
   "outputs": [
    {
     "name": "stdout",
     "output_type": "stream",
     "text": [
      "-2.9999999999999982\n"
     ]
    }
   ],
   "source": [
    "z_score = (s_mean - p_mean) / (std / np.sqrt(n))\n",
    "print(z_score)\n"
   ]
  },
  {
   "cell_type": "code",
   "execution_count": 6,
   "metadata": {},
   "outputs": [
    {
     "name": "stdout",
     "output_type": "stream",
     "text": [
      "0.0026997960632602026\n",
      "We reject the null hypothesis; 99.5% confidence\n"
     ]
    }
   ],
   "source": [
    "p_value = 2 * norm.sf(np.abs(z_score))\n",
    "print(p_value)\n",
    "\n",
    "# Is p_value less than std? If so, reject null hypothesis\n",
    "signif_low = 0.05\n",
    "signif_high = 0.01\n",
    "signif_r_high = 0.005\n",
    "\n",
    "sig_value = signif_r_high\n",
    "\n",
    "if p_value < sig_value:\n",
    "    print(\"We reject the null hypothesis; {}% confidence\".format((1.0 - sig_value) * 100))\n",
    "else:\n",
    "    print(\"Insignificant; we accept the null hypothesis\")"
   ]
  },
  {
   "cell_type": "markdown",
   "metadata": {},
   "source": [
    "## Height - T Scores\n",
    "- Pop mean = 175.3\n",
    "- Samples: [177.3, 182.7, 169.6, 176.3, 180.3, 179.4, 178.5, 177.2, 181.8, 176.5]"
   ]
  },
  {
   "cell_type": "code",
   "execution_count": 7,
   "metadata": {},
   "outputs": [
    {
     "data": {
      "text/plain": [
       "Ttest_1sampResult(statistic=2.295568968083183, pvalue=0.04734137339747034)"
      ]
     },
     "metadata": {},
     "output_type": "display_data"
    }
   ],
   "source": [
    "from scipy.stats import ttest_1samp\n",
    "\n",
    "p_mean = 175.3\n",
    "x = np.array([177.3, 182.7, 169.6, 176.3, 180.3, 179.4, 178.5, 177.2, 181.8, 176.5])\n",
    "s_mean = x.mean()\n",
    "std = x.std(ddof=1)\n",
    "n = np.sqrt(len(x))\n",
    "\n",
    "\n",
    "data = ttest_1samp(x, p_mean)\n",
    "display(data)"
   ]
  },
  {
   "cell_type": "code",
   "execution_count": 8,
   "metadata": {},
   "outputs": [
    {
     "data": {
      "text/plain": [
       "2.295568968083183"
      ]
     },
     "metadata": {},
     "output_type": "display_data"
    }
   ],
   "source": [
    "t_score = (s_mean - p_mean) / (std / n)\n",
    "display(t_score)"
   ]
  },
  {
   "cell_type": "code",
   "execution_count": 11,
   "metadata": {
    "scrolled": true
   },
   "outputs": [
    {
     "name": "stdout",
     "output_type": "stream",
     "text": [
      "Criteria not met; using T-test\n"
     ]
    },
    {
     "data": {
      "text/plain": [
       "0.33646634304191514"
      ]
     },
     "execution_count": 11,
     "metadata": {},
     "output_type": "execute_result"
    }
   ],
   "source": [
    "def testFunction(sample_mean, population_mean, size, std=None, pop_std=None, significance=0.05):\n",
    "    if size < 30 or pop_std is None:\n",
    "        print(\"Criteria not met; using T-test\")\n",
    "        t_score = (sample_mean - population_mean) / ((std or pop_std) / size)\n",
    "        return t_score\n",
    "    else:\n",
    "        print(\"Using Z-test\")\n",
    "        z_score = (sample_mean - population_mean) / ((pop_std or std) / np.sqrt(size))\n",
    "        p_value = 2 * norm.sf(np.abs(z_score))\n",
    "\n",
    "        if p_value < sig_value:\n",
    "            return(\"We reject the null hypothesis; {}% confidence\".format((1.0 - sig_value) * 100))\n",
    "        else:\n",
    "            return(\"Insignificant; we accept the null hypothesis\")\n",
    "\n",
    "testFunction(s_mean, p_mean, n, std=25)"
   ]
  },
  {
   "cell_type": "code",
   "execution_count": 46,
   "metadata": {},
   "outputs": [],
   "source": [
    "df = pd.read_csv('./iris.csv')"
   ]
  },
  {
   "cell_type": "code",
   "execution_count": 48,
   "metadata": {},
   "outputs": [
    {
     "data": {
      "text/plain": [
       "50"
      ]
     },
     "execution_count": 48,
     "metadata": {},
     "output_type": "execute_result"
    }
   ],
   "source": [
    "data = df[df['Species'] == 'Iris-setosa']['SepalLengthCm']\n",
    "mean = data.mean()\n",
    "n = data.count()\n",
    "n"
   ]
  },
  {
   "cell_type": "code",
   "execution_count": 51,
   "metadata": {},
   "outputs": [
    {
     "name": "stdout",
     "output_type": "stream",
     "text": [
      "4.908293780383347 5.103706219616652\n"
     ]
    }
   ],
   "source": [
    "alpha = .05\n",
    "confidence = 1 - (alpha/2)\n",
    "bound = sp.stats.norm.ppf(confidence)\n",
    "std = 0.3525\n",
    "\n",
    "lower = mean - (bound * (std/np.sqrt(n)))\n",
    "upper = mean + (bound * (std/np.sqrt(n)))\n",
    "print(lower, upper)"
   ]
  },
  {
   "cell_type": "code",
   "execution_count": 87,
   "metadata": {},
   "outputs": [
    {
     "name": "stdout",
     "output_type": "stream",
     "text": [
      "[70, 70, 70, 70, 70, 70, 70, 70, 70, 70, 70, 70, 70, 70, 70, 70, 70, 70, 70, 70, 70, 70, 70, 70, 70, 70, 70, 71, 72, 75, 70]\n"
     ]
    }
   ],
   "source": [
    "test = np.array([1, 70, 70, 70, 70, 70, 70, 70, 70, 70, 70, 70, 70, 70, 70, 70, 70, 70, 70, 70, 70, 70, 70, 70, 70, 70, 70, 70, 71, 72, 75, 5, 70])\n",
    "\n",
    "def trim_outlier(data):\n",
    "    mean, std = data.mean(), data.std()\n",
    "    cut_off = 3 * std\n",
    "\n",
    "    upper = mean + cut_off\n",
    "    lower = mean - cut_off\n",
    "    \n",
    "    outliers = [x for x in data if x < lower or x > upper]\n",
    "    cleaned = [x for x in data if x > lower and x < upper]\n",
    "    \n",
    "    return cleaned\n",
    "\n",
    "results = trim_outlier(test)\n",
    "print(results)"
   ]
  },
  {
   "cell_type": "code",
   "execution_count": 119,
   "metadata": {},
   "outputs": [],
   "source": [
    "def trim_outlier_percentile(data):\n",
    "    q25, q75 = np.percentile(data, 25), np.percentile(data, 75)\n",
    "\n",
    "    cleaned = [x for x in data if x > q25 and x < q75]\n",
    "    return cleaned\n",
    "\n",
    "\n",
    "\n",
    "y = np.array([-5, 11, 14])\n",
    "x = np.concatenate((norm.rvs(loc=5,scale=1,size=100), y))\n",
    "result = trim_outlier_percentile(data)"
   ]
  },
  {
   "cell_type": "code",
   "execution_count": 122,
   "metadata": {},
   "outputs": [
    {
     "data": {
      "text/plain": [
       "{'whiskers': [<matplotlib.lines.Line2D at 0x11c30d198>,\n",
       "  <matplotlib.lines.Line2D at 0x11c30d630>],\n",
       " 'caps': [<matplotlib.lines.Line2D at 0x11c30da58>,\n",
       "  <matplotlib.lines.Line2D at 0x11c30de80>],\n",
       " 'boxes': [<matplotlib.lines.Line2D at 0x11c1b86d8>],\n",
       " 'medians': [<matplotlib.lines.Line2D at 0x1a219fb2e8>],\n",
       " 'fliers': [<matplotlib.lines.Line2D at 0x1a219fb710>],\n",
       " 'means': []}"
      ]
     },
     "execution_count": 122,
     "metadata": {},
     "output_type": "execute_result"
    },
    {
     "data": {
      "image/png": "[encoded data removed]",
      "text/plain": [
       "<Figure size 432x288 with 1 Axes>"
      ]
     },
     "metadata": {},
     "output_type": "display_data"
    }
   ],
   "source": [
    "plt.boxplot(x)"
   ]
  },
  {
   "cell_type": "code",
   "execution_count": null,
   "metadata": {},
   "outputs": [],
   "source": []
  }
 ],
 "metadata": {
  "kernelspec": {
   "display_name": "Python 3",
   "language": "python",
   "name": "python3"
  },
  "language_info": {
   "codemirror_mode": {
    "name": "ipython",
    "version": 3
   },
   "file_extension": ".py",
   "mimetype": "text/x-python",
   "name": "python",
   "nbconvert_exporter": "python",
   "pygments_lexer": "ipython3",
   "version": "3.6.5"
  }
 },
 "nbformat": 4,
 "nbformat_minor": 2
}
