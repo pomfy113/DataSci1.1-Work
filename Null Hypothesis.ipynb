{
 "cells": [
  {
   "cell_type": "code",
   "execution_count": 1,
   "metadata": {},
   "outputs": [],
   "source": [
    "import pandas as pd\n",
    "import numpy as np\n",
    "import matplotlib.pyplot as plt\n",
    "import seaborn as sb\n"
   ]
  },
  {
   "cell_type": "code",
   "execution_count": 23,
   "metadata": {},
   "outputs": [
    {
     "data": {
      "text/plain": [
       "(array([   3.,   41.,  237.,  988., 2362., 2992., 2255.,  902.,  202.,\n",
       "          18.]),\n",
       " array([-113.35040309,  -74.08289091,  -34.81537873,    4.45213345,\n",
       "          43.71964563,   82.98715781,  122.25466999,  161.52218217,\n",
       "         200.78969435,  240.05720653,  279.3247187 ]),\n",
       " <a list of 10 Patch objects>)"
      ]
     },
     "execution_count": 23,
     "metadata": {},
     "output_type": "execute_result"
    },
    {
     "data": {
      "image/png": "[encoded data removed]",
      "text/plain": [
       "<Figure size 432x288 with 1 Axes>"
      ]
     },
     "metadata": {},
     "output_type": "display_data"
    }
   ],
   "source": [
    "from scipy.stats import norm\n",
    "mean = 100\n",
    "std = 50\n",
    "norm_array = norm.rvs(loc=100, scale=50, size=10000)\n",
    "plt.hist(norm_array)"
   ]
  },
  {
   "cell_type": "code",
   "execution_count": 29,
   "metadata": {},
   "outputs": [
    {
     "data": {
      "text/plain": [
       "(array([   3.,   41.,  237.,  988., 2362., 2992., 2255.,  902.,  202.,\n",
       "          18.]),\n",
       " array([-4.26700806, -3.48165782, -2.69630757, -1.91095733, -1.12560709,\n",
       "        -0.34025684,  0.4450934 ,  1.23044364,  2.01579389,  2.80114413,\n",
       "         3.58649437]),\n",
       " <a list of 10 Patch objects>)"
      ]
     },
     "execution_count": 29,
     "metadata": {},
     "output_type": "execute_result"
    },
    {
     "data": {
      "image/png": "[encoded data removed]",
      "text/plain": [
       "<Figure size 432x288 with 1 Axes>"
      ]
     },
     "metadata": {},
     "output_type": "display_data"
    }
   ],
   "source": [
    "z_array = []\n",
    "for i in range(len(norm_array)):\n",
    "    z_array.append((norm_array[i] - mean) / std)\n",
    "\n",
    "plt.hist(z_array)"
   ]
  },
  {
   "cell_type": "markdown",
   "metadata": {},
   "source": [
    "## Rats\n",
    "Let's do some info on rats\n",
    "- Pop Mean = 1.2\n",
    "- Sample Mean = 1.05\n",
    "- N = 100\n",
    "- SD = 0.5\n"
   ]
  },
  {
   "cell_type": "code",
   "execution_count": 31,
   "metadata": {},
   "outputs": [],
   "source": [
    "# Z-score\n",
    "import math\n",
    "p_mean = 1.2\n",
    "s_mean = 1.05\n",
    "n = 100\n",
    "std = 0.5"
   ]
  },
  {
   "cell_type": "code",
   "execution_count": 56,
   "metadata": {},
   "outputs": [
    {
     "name": "stdout",
     "output_type": "stream",
     "text": [
      "-2.9999999999999982\n"
     ]
    }
   ],
   "source": [
    "z_score = (s_mean - p_mean) / (std / math.sqrt(n))\n",
    "print(z_score)\n"
   ]
  },
  {
   "cell_type": "code",
   "execution_count": 72,
   "metadata": {},
   "outputs": [
    {
     "name": "stdout",
     "output_type": "stream",
     "text": [
      "0.0026997960632602026\n",
      "We reject the null hypothesis; 99.5% confidence\n"
     ]
    }
   ],
   "source": [
    "p_value = 2 * norm.sf(np.abs(z_score))\n",
    "print(p_value)\n",
    "\n",
    "# Is p_value less than std? If so, reject null hypothesis\n",
    "signif_low = 0.05\n",
    "signif_high = 0.01\n",
    "signif_r_high = 0.005\n",
    "\n",
    "sig_value = signif_r_high\n",
    "\n",
    "if p_value < sig_value:\n",
    "    print(\"We reject the null hypothesis; {}% confidence\".format((1.0 - sig_value) * 100))\n",
    "else:\n",
    "    print(\"Insignificant; we accept the null hypothesis\")"
   ]
  },
  {
   "cell_type": "code",
   "execution_count": null,
   "metadata": {},
   "outputs": [],
   "source": []
  }
 ],
 "metadata": {
  "kernelspec": {
   "display_name": "Python 3",
   "language": "python",
   "name": "python3"
  },
  "language_info": {
   "codemirror_mode": {
    "name": "ipython",
    "version": 3
   },
   "file_extension": ".py",
   "mimetype": "text/x-python",
   "name": "python",
   "nbconvert_exporter": "python",
   "pygments_lexer": "ipython3",
   "version": "3.6.5"
  }
 },
 "nbformat": 4,
 "nbformat_minor": 2
}
